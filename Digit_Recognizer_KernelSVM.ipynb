{
 "cells": [
  {
   "cell_type": "code",
   "execution_count": 1,
   "metadata": {},
   "outputs": [],
   "source": [
    "import numpy as np\n",
    "import matplotlib.pyplot as plt\n",
    "import pandas as pd"
   ]
  },
  {
   "cell_type": "code",
   "execution_count": 2,
   "metadata": {},
   "outputs": [],
   "source": [
    "dataset = pd.read_csv('train.csv')\n",
    "X = dataset.iloc[:, 1:].values\n",
    "y = dataset.iloc[:, 0].values"
   ]
  },
  {
   "cell_type": "code",
   "execution_count": 3,
   "metadata": {},
   "outputs": [
    {
     "name": "stdout",
     "output_type": "stream",
     "text": [
      "(42000, 784)\n"
     ]
    }
   ],
   "source": [
    "print(X.shape)"
   ]
  },
  {
   "cell_type": "code",
   "execution_count": 4,
   "metadata": {},
   "outputs": [
    {
     "name": "stdout",
     "output_type": "stream",
     "text": [
      "(42000,)\n"
     ]
    }
   ],
   "source": [
    "print(y.shape)"
   ]
  },
  {
   "cell_type": "code",
   "execution_count": 5,
   "metadata": {},
   "outputs": [
    {
     "name": "stdout",
     "output_type": "stream",
     "text": [
      "[1 0 1 ... 7 6 9]\n"
     ]
    }
   ],
   "source": [
    "print(y)"
   ]
  },
  {
   "cell_type": "code",
   "execution_count": 6,
   "metadata": {},
   "outputs": [],
   "source": [
    "(unique,counts) = np.unique(y,return_counts=True)"
   ]
  },
  {
   "cell_type": "code",
   "execution_count": 7,
   "metadata": {},
   "outputs": [
    {
     "name": "stdout",
     "output_type": "stream",
     "text": [
      "[[   0    1    2    3    4    5    6    7    8    9]\n",
      " [4132 4684 4177 4351 4072 3795 4137 4401 4063 4188]]\n"
     ]
    }
   ],
   "source": [
    "print(np.asarray((unique,counts)))"
   ]
  },
  {
   "cell_type": "code",
   "execution_count": 8,
   "metadata": {},
   "outputs": [
    {
     "data": {
      "text/plain": [
       "<BarContainer object of 10 artists>"
      ]
     },
     "execution_count": 8,
     "metadata": {},
     "output_type": "execute_result"
    },
    {
     "data": {
      "image/png": "[encoded data removed]",
      "text/plain": [
       "<Figure size 432x288 with 1 Axes>"
      ]
     },
     "metadata": {
      "needs_background": "light"
     },
     "output_type": "display_data"
    }
   ],
   "source": [
    "plt.bar(unique,counts)"
   ]
  },
  {
   "cell_type": "code",
   "execution_count": 9,
   "metadata": {},
   "outputs": [],
   "source": [
    "from sklearn.preprocessing import StandardScaler\n",
    "sc = StandardScaler()\n",
    "X = sc.fit_transform(X)"
   ]
  },
  {
   "cell_type": "code",
   "execution_count": 10,
   "metadata": {},
   "outputs": [
    {
     "data": {
      "text/plain": [
       "SVC(random_state=0)"
      ]
     },
     "execution_count": 10,
     "metadata": {},
     "output_type": "execute_result"
    }
   ],
   "source": [
    "from sklearn.svm import SVC\n",
    "classifier = SVC(kernel = 'rbf', random_state = 0)\n",
    "classifier.fit(X, y)"
   ]
  },
  {
   "cell_type": "code",
   "execution_count": 11,
   "metadata": {},
   "outputs": [],
   "source": [
    "test = pd.read_csv('test.csv').values\n",
    "test = sc.transform(test)"
   ]
  },
  {
   "cell_type": "code",
   "execution_count": 12,
   "metadata": {},
   "outputs": [
    {
     "name": "stdout",
     "output_type": "stream",
     "text": [
      "[ 0.00000000e+00  0.00000000e+00  0.00000000e+00  0.00000000e+00\n",
      "  0.00000000e+00  0.00000000e+00  0.00000000e+00  0.00000000e+00\n",
      "  0.00000000e+00  0.00000000e+00  0.00000000e+00  0.00000000e+00\n",
      " -5.28063530e-03 -6.87837385e-03 -4.87955846e-03 -4.87955846e-03\n",
      "  0.00000000e+00  0.00000000e+00  0.00000000e+00  0.00000000e+00\n",
      "  0.00000000e+00  0.00000000e+00  0.00000000e+00  0.00000000e+00\n",
      "  0.00000000e+00  0.00000000e+00  0.00000000e+00  0.00000000e+00\n",
      "  0.00000000e+00  0.00000000e+00  0.00000000e+00  0.00000000e+00\n",
      " -4.87955846e-03 -5.62918092e-03 -9.32058423e-03 -1.17998060e-02\n",
      " -1.63061719e-02 -2.03752520e-02 -2.59514740e-02 -2.99643170e-02\n",
      " -3.19107654e-02 -3.22486821e-02 -3.25422311e-02 -2.99246677e-02\n",
      " -2.98195932e-02 -2.79072967e-02 -2.35148150e-02 -1.75808468e-02\n",
      " -1.53656634e-02 -9.63815429e-03 -8.30613350e-03 -5.23595180e-03\n",
      "  0.00000000e+00  0.00000000e+00  0.00000000e+00  0.00000000e+00\n",
      "  0.00000000e+00  0.00000000e+00 -4.87955846e-03 -4.87955846e-03\n",
      " -8.00884680e-03 -1.14283483e-02 -1.98461055e-02 -2.78843541e-02\n",
      " -3.92610248e-02 -5.33058667e-02 -6.75035368e-02 -8.46804751e-02\n",
      " -1.02183136e-01 -1.18982044e-01 -1.32962524e-01 -1.41035658e-01\n",
      " -1.39332722e-01 -1.30765928e-01 -1.17858944e-01 -1.00376126e-01\n",
      " -7.80037254e-02 -5.61000504e-02 -3.92123763e-02 -2.38609916e-02\n",
      " -1.37298683e-02 -8.05698949e-03  0.00000000e+00  0.00000000e+00\n",
      "  0.00000000e+00  0.00000000e+00 -5.24430816e-03 -7.93855835e-03\n",
      " -1.44271278e-02 -2.52431436e-02 -3.60421516e-02 -5.56574635e-02\n",
      " -8.11880514e-02 -1.09299148e-01 -1.39794012e-01 -1.71677502e-01\n",
      " -2.00759177e-01 -2.28154088e-01 -2.50787966e-01 -2.63391514e-01\n",
      " -2.61646961e-01 -2.45296756e-01 -2.18614311e-01 -1.85051607e-01\n",
      " -1.46751366e-01 -1.08036865e-01 -7.73718523e-02 -4.75949057e-02\n",
      " -3.01568872e-02 -1.57613695e-02 -4.87955846e-03  0.00000000e+00\n",
      "  0.00000000e+00 -4.87955846e-03 -8.05862978e-03 -1.43583019e-02\n",
      " -2.59675196e-02 -4.94942274e-02 -7.87568588e-02 -1.17399630e-01\n",
      " -1.63794624e-01 -2.15760870e-01 -7.47689142e-02 -5.45140598e-02\n",
      " -1.56641605e-01 -2.42718115e-01 -3.04705489e-01  3.99923162e-01\n",
      "  1.57987714e+00  1.73659571e+00  5.48038278e-02 -3.55791336e-01\n",
      " -2.83949029e-01 -2.16808141e-01 -1.57953169e-01 -1.06948237e-01\n",
      " -6.97836106e-02 -3.71210581e-02 -1.51899233e-02  0.00000000e+00\n",
      "  0.00000000e+00  0.00000000e+00 -1.11389202e-02 -2.10555041e-02\n",
      " -5.26024287e-02 -9.03122181e-02 -1.39415148e-01 -1.96416386e-01\n",
      " -2.64103835e-01 -3.42806621e-01  1.42025949e+00  2.39640909e+00\n",
      "  2.00165558e+00  1.71991693e+00  1.55113268e+00  1.48371415e+00\n",
      "  1.51379381e+00  1.64249815e+00 -1.79695744e-01 -5.54876523e-01\n",
      " -4.47503583e-01 -3.46382241e-01 -2.59006053e-01 -1.87362622e-01\n",
      " -1.28943268e-01 -7.18257402e-02 -2.98524672e-02 -4.87955846e-03\n",
      "  0.00000000e+00 -4.87955846e-03 -1.49958241e-02 -3.63057026e-02\n",
      " -8.01647419e-02 -1.32703422e-01 -1.98356584e-01 -2.74215789e-01\n",
      " -3.64127192e-01  2.73205466e-01  1.87096263e+00  1.77547243e+00\n",
      "  1.50515887e+00  1.30777161e+00  1.18780989e+00  1.14025561e+00\n",
      "  1.16677349e+00  1.26119379e+00  1.01464575e+00  1.18312324e+00\n",
      " -8.31193355e-02 -4.49664758e-01 -3.36742982e-01 -2.45674763e-01\n",
      " -1.70724634e-01 -1.01642398e-01 -4.66358108e-02 -1.33635808e-02\n",
      "  0.00000000e+00 -1.46595542e-02 -2.70137056e-02 -6.10201520e-02\n",
      " -1.15696785e-01 -1.79029556e-01 -2.57618500e-01 -3.50860717e-01\n",
      " -4.62151712e-01  1.70538821e+00  1.74676516e+00  1.46396757e+00\n",
      "  1.27356427e+00  1.14602651e+00  1.07995769e+00  1.06725352e+00\n",
      "  1.09049566e+00  1.14823406e+00  1.26644492e+00  1.47802562e+00\n",
      "  1.53052181e+00  6.62843649e-02 -3.94024960e-01 -2.83475062e-01\n",
      " -1.93969436e-01 -1.16590996e-01 -5.48401886e-02 -1.31264632e-02\n",
      " -4.87955846e-03 -1.96671385e-02 -4.56534768e-02 -8.70976266e-02\n",
      " -1.44149937e-01 -2.13478171e-01 -3.00590712e-01 -4.07842823e-01\n",
      " -5.36172533e-01 -3.16183162e-02  1.28855221e+00  1.28852671e+00\n",
      "  1.18976427e+00  1.15678616e+00 -1.36844137e-01 -7.39155550e-01\n",
      " -7.41966717e-01 -6.10387750e-02  1.14667567e+00  1.38671163e+00\n",
      "  1.69087529e+00  8.91615309e-01 -3.78496444e-01 -2.93977870e-01\n",
      " -1.93748598e-01 -1.18333560e-01 -5.49515681e-02 -1.15674375e-02\n",
      " -8.02962655e-03 -2.29155884e-02 -5.48362240e-02 -9.52302886e-02\n",
      " -1.53544488e-01 -2.26361683e-01 -3.23889707e-01 -4.43156136e-01\n",
      " -5.89988312e-01 -7.60538534e-01 -3.44152587e-01  1.88068196e-02\n",
      "  2.58980031e-02  9.01799886e-02 -5.65428415e-01 -9.09205918e-01\n",
      " -9.51439539e-01 -1.00243545e+00  8.41449080e-01  1.39870659e+00\n",
      "  1.68977353e+00  2.17490518e+00 -2.14111580e-01 -2.85724841e-01\n",
      " -1.79638435e-01 -1.03934584e-01 -4.58447974e-02 -1.39604889e-02\n",
      " -8.42314741e-03 -2.26066384e-02 -5.39738874e-02 -9.35457066e-02\n",
      " -1.48453176e-01 -2.26326449e-01 -3.31911472e-01 -4.64310572e-01\n",
      " -6.27548270e-01 -7.96491327e-01 -9.20245428e-01 -9.35893116e-01\n",
      " -8.65274262e-01 -7.90215633e-01 -7.67579206e-01 -7.98835249e-01\n",
      " -8.74676953e-01 -9.51757766e-01 -4.47750163e-01  1.45449284e+00\n",
      "  1.77512170e+00  2.28994109e+00 -1.84581603e-01 -2.70287537e-01\n",
      " -1.60694524e-01 -8.12808791e-02 -3.64221778e-02 -1.40925877e-02\n",
      " -7.82743990e-03 -2.01461160e-02 -4.85106202e-02 -8.21128952e-02\n",
      " -1.35994826e-01 -2.24340702e-01 -3.37875055e-01 -4.85032240e-01\n",
      " -6.55709642e-01 -8.20025511e-01 -9.04828523e-01 -8.72118151e-01\n",
      " -7.80590021e-01 -7.29777011e-01 -7.39587077e-01 -8.03592916e-01\n",
      " -9.05113220e-01 -9.81243177e-01 -5.76495065e-01  1.52381956e+00\n",
      "  1.90568439e+00  2.47432321e+00 -1.50801361e-01 -2.58705609e-01\n",
      " -1.52049710e-01 -6.30620248e-02 -2.95468124e-02 -1.08764523e-02\n",
      " -4.87955846e-03 -1.39233993e-02 -3.78282756e-02 -6.80383016e-02\n",
      " -1.25350435e-01 -2.25743367e-01 -3.52674449e-01 -5.10936792e-01\n",
      " -6.83581467e-01 -8.34150916e-01 -8.94846491e-01 -8.44094879e-01\n",
      " -7.66343144e-01 -7.70674200e-01 -8.21315991e-01 -9.20363532e-01\n",
      " -1.03555189e+00 -1.06535680e+00 -1.15402725e-01  1.58973869e+00\n",
      "  2.05012548e+00  2.63155001e+00 -1.33467738e-01 -2.57428162e-01\n",
      " -1.56371986e-01 -5.46911753e-02 -2.12581441e-02 -1.11890304e-02\n",
      " -4.87955846e-03 -9.42173465e-03 -2.64915332e-02 -5.70989054e-02\n",
      " -1.23073991e-01 -2.39055606e-01 -3.74419389e-01 -5.35185618e-01\n",
      " -7.03576091e-01 -8.38245410e-01 -8.81560968e-01 -8.41134540e-01\n",
      " -8.15124886e-01 -8.91605560e-01 -9.80197358e-01 -1.11512478e+00\n",
      " -1.18736193e+00 -1.13716366e+00  8.54932592e-01  1.64040738e+00\n",
      "  2.12305383e+00  2.66092362e+00 -1.36990695e-01 -2.65589021e-01\n",
      " -1.67944253e-01 -6.08591223e-02 -2.12067789e-02 -7.53763749e-03\n",
      "  0.00000000e+00 -5.41364447e-03 -1.76866018e-02 -4.98145445e-02\n",
      " -1.27083915e-01 -2.57571749e-01 -3.94539728e-01 -5.51248409e-01\n",
      " -7.06230937e-01 -8.21641631e-01 -8.63721683e-01 -8.56649666e-01\n",
      " -3.34742589e-01 -1.43057729e-01 -2.99872696e-01 -1.27522383e+00\n",
      " -1.25250185e+00 -7.43975168e-01  1.04450798e+00  1.66128185e+00\n",
      "  2.08779032e+00  1.88114577e+00 -2.26365823e-01 -2.75070368e-01\n",
      " -1.75546979e-01 -7.02006428e-02 -2.49640544e-02 -6.84009799e-03\n",
      "  0.00000000e+00  0.00000000e+00 -1.65589147e-02 -5.24444574e-02\n",
      " -1.38560511e-01 -2.75900466e-01 -2.63855037e-01 -2.81659485e-01\n",
      "  3.28732569e-01 -1.97902463e-02  9.06466171e-01  8.79804194e-01\n",
      "  1.12429756e+00  1.15221382e+00  1.02421269e+00  4.55753772e-01\n",
      "  5.11685963e-01  8.55397178e-01  1.37495936e+00  1.66877255e+00\n",
      "  1.57476167e+00 -1.73293591e-01 -3.82412384e-01 -2.79896375e-01\n",
      " -1.75924589e-01 -7.65480128e-02 -2.83372897e-02 -9.65740932e-03\n",
      "  0.00000000e+00 -6.77968591e-03 -2.07306529e-02 -6.14370545e-02\n",
      "  1.31815830e+00  1.79735571e+00  1.83076201e+00  2.22286586e+00\n",
      "  1.85503957e+00  1.66665485e+00  1.59467428e+00  1.53064494e+00\n",
      "  1.38780216e+00  1.21897227e+00  1.12690618e+00  1.12791336e+00\n",
      "  1.17232623e+00  1.27238596e+00  1.44913120e+00  1.67110781e+00\n",
      "  1.64758738e+00  8.55716796e-01 -2.83288075e-01 -2.74399277e-01\n",
      " -1.72592692e-01 -8.27027142e-02 -3.40941569e-02 -1.18694996e-02\n",
      "  0.00000000e+00 -7.77813853e-03 -2.51808665e-02 -7.41922376e-02\n",
      "  3.36860715e+00  4.00438390e+00  2.82435840e+00  2.27989603e+00\n",
      "  1.97286177e+00  1.72963425e+00  1.33017627e+00  1.34549559e+00\n",
      "  1.51280819e+00  1.36901972e+00  1.25914917e+00  1.23117962e+00\n",
      "  1.26318364e+00  1.34339171e+00  1.47318724e+00  1.65798655e+00\n",
      "  1.97866189e+00  2.49390877e+00  1.97931708e+00  4.42956262e-02\n",
      " -1.66787456e-01 -8.67867558e-02 -3.56872556e-02 -1.43119061e-02\n",
      " -6.87824658e-03 -7.96886725e-03 -3.26567441e-02 -9.15102162e-02\n",
      "  6.46460902e+00  3.76191708e+00  2.75307761e+00  2.26801507e+00\n",
      "  1.35196024e+00  3.31124059e-01 -6.95270780e-01 -4.22225804e-01\n",
      "  1.12210583e+00  1.45369575e+00  1.32216647e+00  1.26377271e+00\n",
      "  1.15897445e+00  1.45377091e-01  2.50688063e-01  1.06210587e+00\n",
      "  2.03539094e+00  2.61795903e+00  3.55959876e+00  3.53043095e+00\n",
      " -1.55613003e-01 -8.34962212e-02 -3.21495181e-02 -9.47956279e-03\n",
      "  0.00000000e+00 -7.12079977e-03 -3.91356193e-02 -1.04358476e-01\n",
      "  6.00382030e+00  3.61011418e+00  2.64804116e+00  2.18172124e+00\n",
      "  1.77459296e+00  1.46595896e+00  1.36928264e+00  1.30662702e+00\n",
      "  1.39740619e+00  1.38671592e+00  1.25997034e+00  1.00037705e+00\n",
      " -4.26350684e-01 -9.77551463e-01 -8.53707495e-01 -5.44791993e-01\n",
      "  1.33609493e+00  2.53545028e+00  3.93796301e+00  5.90980330e+00\n",
      " -1.39357120e-01 -7.66360079e-02 -2.99865493e-02 -6.84936121e-03\n",
      "  0.00000000e+00 -8.24446713e-03 -4.30257075e-02 -1.09801059e-01\n",
      "  3.64981804e+00  3.71175375e+00  2.65627002e+00  2.10836531e+00\n",
      "  1.79508274e+00  1.60533095e+00  1.49163127e+00  1.40856208e+00\n",
      "  1.32014607e+00  7.89771820e-01 -1.75543337e-01 -5.54338018e-01\n",
      " -1.07509377e+00 -9.49870676e-01 -7.95614880e-01 -6.35235129e-01\n",
      " -4.91712347e-01  5.41484571e-01  4.56091498e+00  4.30093600e+00\n",
      " -1.19507263e-01 -6.60344691e-02 -2.64710070e-02 -4.87955846e-03\n",
      " -4.87955846e-03 -9.52668232e-03 -4.02267480e-02 -1.01872092e-01\n",
      " -2.11907439e-02  1.60096238e-01  1.91511940e+00  1.37847811e+00\n",
      "  1.05050957e+00  8.39266053e-01  7.01575979e-01 -7.38559943e-01\n",
      " -9.67797953e-01 -1.09383385e+00 -1.20259058e+00 -1.13845070e+00\n",
      " -1.00843831e+00 -8.43280479e-01 -6.74212470e-01 -5.26009977e-01\n",
      " -4.00934439e-01 -2.96730232e-01  1.40742207e-01  6.76562796e-02\n",
      " -9.58896165e-02 -4.99971534e-02 -2.09713739e-02 -4.87955846e-03\n",
      " -4.87955846e-03 -6.34283088e-03 -3.21612248e-02 -8.10342091e-02\n",
      " -1.49257508e-01 -2.43568445e-01 -3.58298703e-01 -4.83676669e-01\n",
      " -6.20250810e-01 -7.54666499e-01 -8.85926923e-01 -1.00006662e+00\n",
      " -1.09005620e+00 -1.12486690e+00 -1.08586978e+00 -9.74323563e-01\n",
      " -8.28390131e-01 -6.72119002e-01 -5.26917015e-01 -4.03537510e-01\n",
      " -3.01867963e-01 -2.18724805e-01 -1.56916555e-01 -1.07205531e-01\n",
      " -6.86727959e-02 -3.87515467e-02 -1.33202844e-02 -4.87955846e-03\n",
      "  0.00000000e+00  0.00000000e+00 -2.24461490e-02 -5.43279788e-02\n",
      " -1.01344901e-01 -1.68245570e-01 -2.60173095e-01 -3.67808526e-01\n",
      " -4.87450496e-01 -6.11428246e-01 -7.34204151e-01 -8.41334752e-01\n",
      " -9.03809465e-01 -9.05625400e-01 -8.47474310e-01 -7.40575604e-01\n",
      " -6.17150464e-01 -4.94893989e-01 -3.81775910e-01 -2.88340459e-01\n",
      " -2.12116111e-01 -1.51179405e-01 -1.06495725e-01 -7.20373009e-02\n",
      " -4.32153958e-02 -2.21526763e-02 -1.15917624e-02  0.00000000e+00\n",
      "  0.00000000e+00  0.00000000e+00 -1.02525513e-02 -3.01571638e-02\n",
      " -5.86481491e-02 -9.62214884e-02 -1.52938887e-01 -2.20866805e-01\n",
      " -2.99417897e-01 -3.82940631e-01 -4.63385216e-01 -5.27121930e-01\n",
      " -5.64529946e-01 -5.63077924e-01 -5.30895574e-01 -4.71567490e-01\n",
      " -4.00846186e-01 -3.28097461e-01 -2.56117408e-01 -1.95399227e-01\n",
      " -1.45647184e-01 -1.01529328e-01 -7.13433905e-02 -4.75175962e-02\n",
      " -2.55835978e-02 -1.18937891e-02 -5.68079958e-03  0.00000000e+00\n",
      "  0.00000000e+00  0.00000000e+00 -7.96543916e-03 -1.16318216e-02\n",
      " -2.88225868e-02 -5.09089956e-02 -8.38372401e-02 -1.24750672e-01\n",
      " -1.71511293e-01 -2.18910951e-01 -2.62683629e-01 -2.93458954e-01\n",
      " -3.07613730e-01 -3.05850203e-01 -2.91951411e-01 -2.67861521e-01\n",
      " -2.38533554e-01 -2.05150709e-01 -1.65183990e-01 -1.28266108e-01\n",
      " -9.43358991e-02 -6.53858667e-02 -4.66193156e-02 -2.92448418e-02\n",
      " -1.45796775e-02 -6.78333510e-03 -4.87955846e-03  0.00000000e+00\n",
      "  0.00000000e+00  0.00000000e+00  0.00000000e+00  0.00000000e+00\n",
      " -1.44813212e-02 -2.89965539e-02 -5.23112533e-02 -7.73853092e-02\n",
      " -1.04531977e-01 -1.29107930e-01 -1.54082201e-01 -1.75166781e-01\n",
      " -1.84462289e-01 -1.83468049e-01 -1.72050621e-01 -1.56739511e-01\n",
      " -1.39943342e-01 -1.20149819e-01 -9.66100176e-02 -7.55081482e-02\n",
      " -5.35469365e-02 -3.70324057e-02 -2.35205538e-02 -1.34525557e-02\n",
      " -6.14199410e-03 -4.87955846e-03  0.00000000e+00  0.00000000e+00\n",
      "  0.00000000e+00  0.00000000e+00  0.00000000e+00  0.00000000e+00\n",
      "  0.00000000e+00 -6.46758047e-03 -1.52428367e-02 -2.09334657e-02\n",
      " -2.52897619e-02 -3.05144885e-02 -4.17543954e-02 -4.63300307e-02\n",
      " -5.13463879e-02 -5.51690352e-02 -6.02282854e-02 -5.63589198e-02\n",
      " -5.16076515e-02 -4.27934060e-02 -3.47365998e-02 -2.52700070e-02\n",
      " -1.80255700e-02 -1.14728457e-02 -9.09914022e-03 -6.89698912e-03\n",
      "  0.00000000e+00  0.00000000e+00  0.00000000e+00  0.00000000e+00]\n"
     ]
    }
   ],
   "source": [
    "print(test[0])"
   ]
  },
  {
   "cell_type": "code",
   "execution_count": 13,
   "metadata": {},
   "outputs": [
    {
     "name": "stdout",
     "output_type": "stream",
     "text": [
      "(28000, 784)\n"
     ]
    }
   ],
   "source": [
    "print(test.shape)"
   ]
  },
  {
   "cell_type": "code",
   "execution_count": 14,
   "metadata": {},
   "outputs": [],
   "source": [
    "y_test_prediction = classifier.predict(test)"
   ]
  },
  {
   "cell_type": "code",
   "execution_count": 15,
   "metadata": {},
   "outputs": [
    {
     "name": "stdout",
     "output_type": "stream",
     "text": [
      "(28000,)\n"
     ]
    }
   ],
   "source": [
    "print(y_test_prediction.shape)"
   ]
  },
  {
   "cell_type": "code",
   "execution_count": 16,
   "metadata": {},
   "outputs": [],
   "source": [
    "df = pd.DataFrame({\"ImageId\":np.arange(1,28000+1),\"Label\":y_test_prediction})"
   ]
  },
  {
   "cell_type": "code",
   "execution_count": 17,
   "metadata": {},
   "outputs": [
    {
     "name": "stdout",
     "output_type": "stream",
     "text": [
      "    ImageId  Label\n",
      "0         1      2\n",
      "1         2      0\n",
      "2         3      9\n",
      "3         4      4\n",
      "4         5      3\n",
      "5         6      7\n",
      "6         7      0\n",
      "7         8      3\n",
      "8         9      0\n",
      "9        10      3\n",
      "10       11      5\n",
      "11       12      7\n",
      "12       13      4\n",
      "13       14      0\n",
      "14       15      4\n",
      "15       16      3\n",
      "16       17      3\n",
      "17       18      1\n",
      "18       19      9\n",
      "19       20      0\n"
     ]
    }
   ],
   "source": [
    "print(df.head(20))"
   ]
  },
  {
   "cell_type": "code",
   "execution_count": 18,
   "metadata": {},
   "outputs": [],
   "source": [
    "df.to_csv('Results2.csv',index=False)"
   ]
  },
  {
   "cell_type": "code",
   "execution_count": 19,
   "metadata": {},
   "outputs": [],
   "source": [
    "img1 = test[0].reshape(28,28)"
   ]
  },
  {
   "cell_type": "code",
   "execution_count": 20,
   "metadata": {},
   "outputs": [
    {
     "name": "stdout",
     "output_type": "stream",
     "text": [
      "The digit with ImageId=1 is  2\n"
     ]
    },
    {
     "data": {
      "image/png": "[encoded data removed]",
      "text/plain": [
       "<Figure size 432x288 with 1 Axes>"
      ]
     },
     "metadata": {
      "needs_background": "light"
     },
     "output_type": "display_data"
    }
   ],
   "source": [
    "plt.imshow(img1,cmap='gray')\n",
    "print(\"The digit with ImageId=1 is \",df[\"Label\"][0])"
   ]
  },
  {
   "cell_type": "code",
   "execution_count": 22,
   "metadata": {},
   "outputs": [
    {
     "data": {
      "text/plain": [
       "<matplotlib.image.AxesImage at 0x1360217cd00>"
      ]
     },
     "execution_count": 22,
     "metadata": {},
     "output_type": "execute_result"
    },
    {
     "data": {
      "image/png": "[encoded data removed]",
      "text/plain": [
       "<Figure size 432x288 with 1 Axes>"
      ]
     },
     "metadata": {
      "needs_background": "light"
     },
     "output_type": "display_data"
    }
   ],
   "source": [
    "import cv2\n",
    "img2 = cv2.imread('testImage2.png',0)\n",
    "plt.imshow(img2,cmap='gray')"
   ]
  },
  {
   "cell_type": "code",
   "execution_count": 23,
   "metadata": {},
   "outputs": [],
   "source": [
    "img2 = np.reshape(img2,(1,784))\n",
    "img2 = sc.transform(img2)"
   ]
  },
  {
   "cell_type": "code",
   "execution_count": 24,
   "metadata": {},
   "outputs": [
    {
     "data": {
      "text/plain": [
       "array([5], dtype=int64)"
      ]
     },
     "execution_count": 24,
     "metadata": {},
     "output_type": "execute_result"
    }
   ],
   "source": [
    "classifier.predict(img2)"
   ]
  },
  {
   "cell_type": "code",
   "execution_count": null,
   "metadata": {},
   "outputs": [],
   "source": []
  }
 ],
 "metadata": {
  "kernelspec": {
   "display_name": "Python 3",
   "language": "python",
   "name": "python3"
  },
  "language_info": {
   "codemirror_mode": {
    "name": "ipython",
    "version": 3
   },
   "file_extension": ".py",
   "mimetype": "text/x-python",
   "name": "python",
   "nbconvert_exporter": "python",
   "pygments_lexer": "ipython3",
   "version": "3.8.5"
  }
 },
 "nbformat": 4,
 "nbformat_minor": 4
}
